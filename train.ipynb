{
 "cells": [
  {
   "cell_type": "code",
   "execution_count": 1,
   "metadata": {
    "_cell_guid": "b1076dfc-b9ad-4769-8c92-a6c4dae69d19",
    "_uuid": "8f2839f25d086af736a60e9eeb907d3b93b6e0e5",
    "execution": {
     "iopub.execute_input": "2020-10-08T15:16:42.402439Z",
     "iopub.status.busy": "2020-10-08T15:16:42.401564Z",
     "iopub.status.idle": "2020-10-08T15:16:48.279287Z",
     "shell.execute_reply": "2020-10-08T15:16:48.280483Z"
    },
    "papermill": {
     "duration": 5.915692,
     "end_time": "2020-10-08T15:16:48.280722",
     "exception": false,
     "start_time": "2020-10-08T15:16:42.365030",
     "status": "completed"
    },
    "tags": []
   },
   "outputs": [
    {
     "name": "stdout",
     "output_type": "stream",
     "text": [
      "/kaggle/input/avito-demand-prediction/train.csv\n",
      "/kaggle/input/avito-demand-prediction/train_jpg_2.zip\n",
      "/kaggle/input/avito-demand-prediction/train_jpg_4.zip\n",
      "/kaggle/input/avito-demand-prediction/train_jpg_3.zip\n",
      "/kaggle/input/avito-demand-prediction/periods_test.csv\n",
      "/kaggle/input/avito-demand-prediction/test_jpg.zip\n",
      "/kaggle/input/avito-demand-prediction/train_jpg_1.zip\n",
      "/kaggle/input/avito-demand-prediction/test_active.csv\n",
      "/kaggle/input/avito-demand-prediction/train_active.csv\n",
      "/kaggle/input/avito-demand-prediction/train_jpg_0.zip\n",
      "/kaggle/input/avito-demand-prediction/periods_train.csv\n",
      "/kaggle/input/avito-demand-prediction/test.csv\n",
      "/kaggle/input/avito-demand-prediction/sample_submission.csv\n",
      "/kaggle/input/avito-demand-prediction/train_jpg.zip\n"
     ]
    }
   ],
   "source": [
    "import cv2\n",
    "import zipfile\n",
    "from PIL import Image\n",
    "import matplotlib.pyplot as plt\n",
    "\n",
    "from keras.preprocessing import image\n",
    "\n",
    "\n",
    "import numpy as np # linear algebra\n",
    "import pandas as pd # data processing, CSV file I/O (e.g. pd.read_csv)\n",
    "\n",
    "\n",
    "import os\n",
    "for dirname, _, filenames in os.walk('/kaggle/input'):\n",
    "    for filename in filenames:\n",
    "        print(os.path.join(dirname, filename))\n"
   ]
  },
  {
   "cell_type": "code",
   "execution_count": 2,
   "metadata": {
    "_cell_guid": "79c7e3d0-c299-4dcb-8224-4455121ee9b0",
    "_uuid": "d629ff2d2480ee46fbb7e2d37f6b5fab8052498a",
    "execution": {
     "iopub.execute_input": "2020-10-08T15:16:48.400045Z",
     "iopub.status.busy": "2020-10-08T15:16:48.399047Z",
     "iopub.status.idle": "2020-10-08T15:16:55.388830Z",
     "shell.execute_reply": "2020-10-08T15:16:55.388247Z"
    },
    "papermill": {
     "duration": 7.063073,
     "end_time": "2020-10-08T15:16:55.388966",
     "exception": false,
     "start_time": "2020-10-08T15:16:48.325893",
     "status": "completed"
    },
    "tags": []
   },
   "outputs": [
    {
     "name": "stdout",
     "output_type": "stream",
     "text": [
      "CPU times: user 6.26 s, sys: 590 ms, total: 6.85 s\n",
      "Wall time: 6.99 s\n"
     ]
    },
    {
     "data": {
      "text/plain": [
       "Одежда, обувь, аксессуары       282753\n",
       "Детская одежда и обувь          270359\n",
       "Товары для детей и игрушки       99747\n",
       "Квартиры                         83670\n",
       "Телефоны                         65944\n",
       "Мебель и интерьер                65035\n",
       "Предложение услуг                64385\n",
       "Автомобили                       62494\n",
       "Ремонт и строительство           56201\n",
       "Бытовая техника                  33705\n",
       "Товары для компьютера            29565\n",
       "Дома, дачи, коттеджи             29244\n",
       "Красота и здоровье               29198\n",
       "Аудио и видео                    27036\n",
       "Спорт и отдых                    24881\n",
       "Коллекционирование               24346\n",
       "Оборудование для бизнеса         16047\n",
       "Земельные участки                16038\n",
       "Часы и украшения                 15566\n",
       "Книги и журналы                  11819\n",
       "Собаки                           11612\n",
       "Игры, приставки и программы      11167\n",
       "Другие животные                  11040\n",
       "Велосипеды                       10638\n",
       "Ноутбуки                         10297\n",
       "Кошки                             9951\n",
       "Грузовики и спецтехника           9394\n",
       "Посуда и товары для кухни         9076\n",
       "Растения                          9025\n",
       "Планшеты и электронные книги      8624\n",
       "Товары для животных               8580\n",
       "Комнаты                           8512\n",
       "Фототехника                       8345\n",
       "Коммерческая недвижимость         8305\n",
       "Гаражи и машиноместа              7304\n",
       "Музыкальные инструменты           6695\n",
       "Оргтехника и расходники           6580\n",
       "Птицы                             6447\n",
       "Продукты питания                  5781\n",
       "Мотоциклы и мототехника           5771\n",
       "Настольные компьютеры             5450\n",
       "Аквариум                          4840\n",
       "Охота и рыбалка                   4524\n",
       "Билеты и путешествия              3108\n",
       "Водный транспорт                  2180\n",
       "Готовый бизнес                    2028\n",
       "Недвижимость за рубежом            117\n",
       "Name: category_name, dtype: int64"
      ]
     },
     "execution_count": 2,
     "metadata": {},
     "output_type": "execute_result"
    }
   ],
   "source": [
    "%%time\n",
    "#data = pd.read_csv('../input/avito-demand-prediction/train.csv', usecols=['price','image', 'category_name'], nrows=100)\n",
    "data = pd.read_csv('../input/avito-demand-prediction/train.csv', usecols=['price','image', 'category_name'])\n",
    "data.category_name.value_counts()"
   ]
  },
  {
   "cell_type": "code",
   "execution_count": 3,
   "metadata": {
    "execution": {
     "iopub.execute_input": "2020-10-08T15:16:55.672565Z",
     "iopub.status.busy": "2020-10-08T15:16:55.671962Z",
     "iopub.status.idle": "2020-10-08T15:16:55.862302Z",
     "shell.execute_reply": "2020-10-08T15:16:55.861769Z"
    },
    "papermill": {
     "duration": 0.442127,
     "end_time": "2020-10-08T15:16:55.862419",
     "exception": false,
     "start_time": "2020-10-08T15:16:55.420292",
     "status": "completed"
    },
    "tags": []
   },
   "outputs": [],
   "source": [
    "data = data[data['category_name']=='Одежда, обувь, аксессуары'].dropna().reset_index(drop=True)"
   ]
  },
  {
   "cell_type": "code",
   "execution_count": 4,
   "metadata": {
    "execution": {
     "iopub.execute_input": "2020-10-08T15:16:55.926818Z",
     "iopub.status.busy": "2020-10-08T15:16:55.926074Z",
     "iopub.status.idle": "2020-10-08T15:16:55.929562Z",
     "shell.execute_reply": "2020-10-08T15:16:55.930086Z"
    },
    "papermill": {
     "duration": 0.038741,
     "end_time": "2020-10-08T15:16:55.930229",
     "exception": false,
     "start_time": "2020-10-08T15:16:55.891488",
     "status": "completed"
    },
    "tags": []
   },
   "outputs": [
    {
     "data": {
      "text/plain": [
       "(276933, 3)"
      ]
     },
     "execution_count": 4,
     "metadata": {},
     "output_type": "execute_result"
    }
   ],
   "source": [
    "data.shape"
   ]
  },
  {
   "cell_type": "code",
   "execution_count": 5,
   "metadata": {
    "execution": {
     "iopub.execute_input": "2020-10-08T15:16:56.005063Z",
     "iopub.status.busy": "2020-10-08T15:16:56.004309Z",
     "iopub.status.idle": "2020-10-08T15:16:56.015913Z",
     "shell.execute_reply": "2020-10-08T15:16:56.016577Z"
    },
    "papermill": {
     "duration": 0.055707,
     "end_time": "2020-10-08T15:16:56.016730",
     "exception": false,
     "start_time": "2020-10-08T15:16:55.961023",
     "status": "completed"
    },
    "tags": []
   },
   "outputs": [
    {
     "data": {
      "text/html": [
       "<div>\n",
       "<style scoped>\n",
       "    .dataframe tbody tr th:only-of-type {\n",
       "        vertical-align: middle;\n",
       "    }\n",
       "\n",
       "    .dataframe tbody tr th {\n",
       "        vertical-align: top;\n",
       "    }\n",
       "\n",
       "    .dataframe thead th {\n",
       "        text-align: right;\n",
       "    }\n",
       "</style>\n",
       "<table border=\"1\" class=\"dataframe\">\n",
       "  <thead>\n",
       "    <tr style=\"text-align: right;\">\n",
       "      <th></th>\n",
       "      <th>category_name</th>\n",
       "      <th>price</th>\n",
       "      <th>image</th>\n",
       "    </tr>\n",
       "  </thead>\n",
       "  <tbody>\n",
       "    <tr>\n",
       "      <th>0</th>\n",
       "      <td>Одежда, обувь, аксессуары</td>\n",
       "      <td>500.0</td>\n",
       "      <td>9bab29a519e81c14f4582024adfebd4f11a4ac71d323a6...</td>\n",
       "    </tr>\n",
       "    <tr>\n",
       "      <th>1</th>\n",
       "      <td>Одежда, обувь, аксессуары</td>\n",
       "      <td>500.0</td>\n",
       "      <td>75ce06d1f939a31dfb2af8ac55f08fa998fa336d13ee05...</td>\n",
       "    </tr>\n",
       "    <tr>\n",
       "      <th>2</th>\n",
       "      <td>Одежда, обувь, аксессуары</td>\n",
       "      <td>1.0</td>\n",
       "      <td>5162fdb7d8427738370d3145647d2726546f65631e5de9...</td>\n",
       "    </tr>\n",
       "    <tr>\n",
       "      <th>3</th>\n",
       "      <td>Одежда, обувь, аксессуары</td>\n",
       "      <td>800.0</td>\n",
       "      <td>df76951e5cc7073553ea3214fd2024b9f80166828a5356...</td>\n",
       "    </tr>\n",
       "    <tr>\n",
       "      <th>4</th>\n",
       "      <td>Одежда, обувь, аксессуары</td>\n",
       "      <td>1000.0</td>\n",
       "      <td>1a60aa7ac1bab4fac1171650369e19d2e6872483d89032...</td>\n",
       "    </tr>\n",
       "    <tr>\n",
       "      <th>...</th>\n",
       "      <td>...</td>\n",
       "      <td>...</td>\n",
       "      <td>...</td>\n",
       "    </tr>\n",
       "    <tr>\n",
       "      <th>276928</th>\n",
       "      <td>Одежда, обувь, аксессуары</td>\n",
       "      <td>500.0</td>\n",
       "      <td>224a4b70e48a6ce3acdc8cebe3d8df7e1740472954a766...</td>\n",
       "    </tr>\n",
       "    <tr>\n",
       "      <th>276929</th>\n",
       "      <td>Одежда, обувь, аксессуары</td>\n",
       "      <td>3000.0</td>\n",
       "      <td>e1138cb112dd93a0fb12d84bec55177dbff3decd184002...</td>\n",
       "    </tr>\n",
       "    <tr>\n",
       "      <th>276930</th>\n",
       "      <td>Одежда, обувь, аксессуары</td>\n",
       "      <td>150.0</td>\n",
       "      <td>96a65b018d54fe4a59614ac2574003d879635df19c80bf...</td>\n",
       "    </tr>\n",
       "    <tr>\n",
       "      <th>276931</th>\n",
       "      <td>Одежда, обувь, аксессуары</td>\n",
       "      <td>200.0</td>\n",
       "      <td>3c67c7fca10a8e7a0b104248b8731394fd6871ef164b0d...</td>\n",
       "    </tr>\n",
       "    <tr>\n",
       "      <th>276932</th>\n",
       "      <td>Одежда, обувь, аксессуары</td>\n",
       "      <td>500.0</td>\n",
       "      <td>18f8dffacd5516ec8b824a2e846d8d12d75a7a964804a7...</td>\n",
       "    </tr>\n",
       "  </tbody>\n",
       "</table>\n",
       "<p>276933 rows × 3 columns</p>\n",
       "</div>"
      ],
      "text/plain": [
       "                    category_name   price  \\\n",
       "0       Одежда, обувь, аксессуары   500.0   \n",
       "1       Одежда, обувь, аксессуары   500.0   \n",
       "2       Одежда, обувь, аксессуары     1.0   \n",
       "3       Одежда, обувь, аксессуары   800.0   \n",
       "4       Одежда, обувь, аксессуары  1000.0   \n",
       "...                           ...     ...   \n",
       "276928  Одежда, обувь, аксессуары   500.0   \n",
       "276929  Одежда, обувь, аксессуары  3000.0   \n",
       "276930  Одежда, обувь, аксессуары   150.0   \n",
       "276931  Одежда, обувь, аксессуары   200.0   \n",
       "276932  Одежда, обувь, аксессуары   500.0   \n",
       "\n",
       "                                                    image  \n",
       "0       9bab29a519e81c14f4582024adfebd4f11a4ac71d323a6...  \n",
       "1       75ce06d1f939a31dfb2af8ac55f08fa998fa336d13ee05...  \n",
       "2       5162fdb7d8427738370d3145647d2726546f65631e5de9...  \n",
       "3       df76951e5cc7073553ea3214fd2024b9f80166828a5356...  \n",
       "4       1a60aa7ac1bab4fac1171650369e19d2e6872483d89032...  \n",
       "...                                                   ...  \n",
       "276928  224a4b70e48a6ce3acdc8cebe3d8df7e1740472954a766...  \n",
       "276929  e1138cb112dd93a0fb12d84bec55177dbff3decd184002...  \n",
       "276930  96a65b018d54fe4a59614ac2574003d879635df19c80bf...  \n",
       "276931  3c67c7fca10a8e7a0b104248b8731394fd6871ef164b0d...  \n",
       "276932  18f8dffacd5516ec8b824a2e846d8d12d75a7a964804a7...  \n",
       "\n",
       "[276933 rows x 3 columns]"
      ]
     },
     "execution_count": 5,
     "metadata": {},
     "output_type": "execute_result"
    }
   ],
   "source": [
    "data"
   ]
  },
  {
   "cell_type": "code",
   "execution_count": 6,
   "metadata": {
    "execution": {
     "iopub.execute_input": "2020-10-08T15:16:56.092455Z",
     "iopub.status.busy": "2020-10-08T15:16:56.091499Z",
     "iopub.status.idle": "2020-10-08T15:16:56.102035Z",
     "shell.execute_reply": "2020-10-08T15:16:56.101478Z"
    },
    "papermill": {
     "duration": 0.051039,
     "end_time": "2020-10-08T15:16:56.102136",
     "exception": false,
     "start_time": "2020-10-08T15:16:56.051097",
     "status": "completed"
    },
    "tags": []
   },
   "outputs": [],
   "source": [
    "price_class = pd.DataFrame(data.price.value_counts()).reset_index()"
   ]
  },
  {
   "cell_type": "code",
   "execution_count": 7,
   "metadata": {
    "execution": {
     "iopub.execute_input": "2020-10-08T15:16:56.170227Z",
     "iopub.status.busy": "2020-10-08T15:16:56.169535Z",
     "iopub.status.idle": "2020-10-08T15:16:56.173959Z",
     "shell.execute_reply": "2020-10-08T15:16:56.173416Z"
    },
    "papermill": {
     "duration": 0.040017,
     "end_time": "2020-10-08T15:16:56.174059",
     "exception": false,
     "start_time": "2020-10-08T15:16:56.134042",
     "status": "completed"
    },
    "tags": []
   },
   "outputs": [],
   "source": [
    "price_class.columns = ['price', 'count']"
   ]
  },
  {
   "cell_type": "code",
   "execution_count": 8,
   "metadata": {
    "execution": {
     "iopub.execute_input": "2020-10-08T15:16:56.246473Z",
     "iopub.status.busy": "2020-10-08T15:16:56.245599Z",
     "iopub.status.idle": "2020-10-08T15:16:56.385122Z",
     "shell.execute_reply": "2020-10-08T15:16:56.384510Z"
    },
    "papermill": {
     "duration": 0.179372,
     "end_time": "2020-10-08T15:16:56.385244",
     "exception": false,
     "start_time": "2020-10-08T15:16:56.205872",
     "status": "completed"
    },
    "tags": []
   },
   "outputs": [],
   "source": [
    "data = pd.merge(data, price_class)"
   ]
  },
  {
   "cell_type": "code",
   "execution_count": 9,
   "metadata": {
    "execution": {
     "iopub.execute_input": "2020-10-08T15:16:56.455418Z",
     "iopub.status.busy": "2020-10-08T15:16:56.454506Z",
     "iopub.status.idle": "2020-10-08T15:16:56.586964Z",
     "shell.execute_reply": "2020-10-08T15:16:56.587549Z"
    },
    "papermill": {
     "duration": 0.170691,
     "end_time": "2020-10-08T15:16:56.587731",
     "exception": false,
     "start_time": "2020-10-08T15:16:56.417040",
     "status": "completed"
    },
    "tags": []
   },
   "outputs": [
    {
     "data": {
      "text/html": [
       "<div>\n",
       "<style scoped>\n",
       "    .dataframe tbody tr th:only-of-type {\n",
       "        vertical-align: middle;\n",
       "    }\n",
       "\n",
       "    .dataframe tbody tr th {\n",
       "        vertical-align: top;\n",
       "    }\n",
       "\n",
       "    .dataframe thead th {\n",
       "        text-align: right;\n",
       "    }\n",
       "</style>\n",
       "<table border=\"1\" class=\"dataframe\">\n",
       "  <thead>\n",
       "    <tr style=\"text-align: right;\">\n",
       "      <th></th>\n",
       "      <th>category_name</th>\n",
       "      <th>price</th>\n",
       "      <th>image</th>\n",
       "      <th>count</th>\n",
       "    </tr>\n",
       "  </thead>\n",
       "  <tbody>\n",
       "    <tr>\n",
       "      <th>0</th>\n",
       "      <td>Одежда, обувь, аксессуары</td>\n",
       "      <td>500.0</td>\n",
       "      <td>9bab29a519e81c14f4582024adfebd4f11a4ac71d323a6...</td>\n",
       "      <td>35518</td>\n",
       "    </tr>\n",
       "    <tr>\n",
       "      <th>1</th>\n",
       "      <td>Одежда, обувь, аксессуары</td>\n",
       "      <td>500.0</td>\n",
       "      <td>75ce06d1f939a31dfb2af8ac55f08fa998fa336d13ee05...</td>\n",
       "      <td>35518</td>\n",
       "    </tr>\n",
       "    <tr>\n",
       "      <th>2</th>\n",
       "      <td>Одежда, обувь, аксессуары</td>\n",
       "      <td>500.0</td>\n",
       "      <td>e27864ec1516b1227108a4013665950c8847b9c1b3f976...</td>\n",
       "      <td>35518</td>\n",
       "    </tr>\n",
       "    <tr>\n",
       "      <th>3</th>\n",
       "      <td>Одежда, обувь, аксессуары</td>\n",
       "      <td>500.0</td>\n",
       "      <td>1e8f3022d62feddc1f2e68aaf37d4c312a142f01553f1b...</td>\n",
       "      <td>35518</td>\n",
       "    </tr>\n",
       "    <tr>\n",
       "      <th>4</th>\n",
       "      <td>Одежда, обувь, аксессуары</td>\n",
       "      <td>500.0</td>\n",
       "      <td>b9b2edf173cb94f956a4d465b797d87455d0b6d2d108e6...</td>\n",
       "      <td>35518</td>\n",
       "    </tr>\n",
       "    <tr>\n",
       "      <th>...</th>\n",
       "      <td>...</td>\n",
       "      <td>...</td>\n",
       "      <td>...</td>\n",
       "      <td>...</td>\n",
       "    </tr>\n",
       "    <tr>\n",
       "      <th>225202</th>\n",
       "      <td>Одежда, обувь, аксессуары</td>\n",
       "      <td>450.0</td>\n",
       "      <td>11fcc1ef4d6b6e94a527b11c63406d47327c50c5d66edc...</td>\n",
       "      <td>3010</td>\n",
       "    </tr>\n",
       "    <tr>\n",
       "      <th>225203</th>\n",
       "      <td>Одежда, обувь, аксессуары</td>\n",
       "      <td>450.0</td>\n",
       "      <td>d10a85a87271f7c49ec712d0fdb6a1176ccc91909a39db...</td>\n",
       "      <td>3010</td>\n",
       "    </tr>\n",
       "    <tr>\n",
       "      <th>225204</th>\n",
       "      <td>Одежда, обувь, аксессуары</td>\n",
       "      <td>450.0</td>\n",
       "      <td>602f154b6dc18914bc914b40404ebd9c4081859e0a6fc7...</td>\n",
       "      <td>3010</td>\n",
       "    </tr>\n",
       "    <tr>\n",
       "      <th>225205</th>\n",
       "      <td>Одежда, обувь, аксессуары</td>\n",
       "      <td>450.0</td>\n",
       "      <td>6173c0b1eeb73732bedc591d0117308b2c62aba695fae4...</td>\n",
       "      <td>3010</td>\n",
       "    </tr>\n",
       "    <tr>\n",
       "      <th>225206</th>\n",
       "      <td>Одежда, обувь, аксессуары</td>\n",
       "      <td>450.0</td>\n",
       "      <td>756323281a7579f2bd1c8fc66182f13c0c5d9817424bbb...</td>\n",
       "      <td>3010</td>\n",
       "    </tr>\n",
       "  </tbody>\n",
       "</table>\n",
       "<p>225207 rows × 4 columns</p>\n",
       "</div>"
      ],
      "text/plain": [
       "                    category_name  price  \\\n",
       "0       Одежда, обувь, аксессуары  500.0   \n",
       "1       Одежда, обувь, аксессуары  500.0   \n",
       "2       Одежда, обувь, аксессуары  500.0   \n",
       "3       Одежда, обувь, аксессуары  500.0   \n",
       "4       Одежда, обувь, аксессуары  500.0   \n",
       "...                           ...    ...   \n",
       "225202  Одежда, обувь, аксессуары  450.0   \n",
       "225203  Одежда, обувь, аксессуары  450.0   \n",
       "225204  Одежда, обувь, аксессуары  450.0   \n",
       "225205  Одежда, обувь, аксессуары  450.0   \n",
       "225206  Одежда, обувь, аксессуары  450.0   \n",
       "\n",
       "                                                    image  count  \n",
       "0       9bab29a519e81c14f4582024adfebd4f11a4ac71d323a6...  35518  \n",
       "1       75ce06d1f939a31dfb2af8ac55f08fa998fa336d13ee05...  35518  \n",
       "2       e27864ec1516b1227108a4013665950c8847b9c1b3f976...  35518  \n",
       "3       1e8f3022d62feddc1f2e68aaf37d4c312a142f01553f1b...  35518  \n",
       "4       b9b2edf173cb94f956a4d465b797d87455d0b6d2d108e6...  35518  \n",
       "...                                                   ...    ...  \n",
       "225202  11fcc1ef4d6b6e94a527b11c63406d47327c50c5d66edc...   3010  \n",
       "225203  d10a85a87271f7c49ec712d0fdb6a1176ccc91909a39db...   3010  \n",
       "225204  602f154b6dc18914bc914b40404ebd9c4081859e0a6fc7...   3010  \n",
       "225205  6173c0b1eeb73732bedc591d0117308b2c62aba695fae4...   3010  \n",
       "225206  756323281a7579f2bd1c8fc66182f13c0c5d9817424bbb...   3010  \n",
       "\n",
       "[225207 rows x 4 columns]"
      ]
     },
     "execution_count": 9,
     "metadata": {},
     "output_type": "execute_result"
    }
   ],
   "source": [
    "data = data[data['count']>2000].reset_index(drop=True).dropna()\n",
    "data"
   ]
  },
  {
   "cell_type": "code",
   "execution_count": 10,
   "metadata": {
    "execution": {
     "iopub.execute_input": "2020-10-08T15:16:56.664758Z",
     "iopub.status.busy": "2020-10-08T15:16:56.664031Z",
     "iopub.status.idle": "2020-10-08T15:17:24.444014Z",
     "shell.execute_reply": "2020-10-08T15:17:24.443256Z"
    },
    "papermill": {
     "duration": 27.820628,
     "end_time": "2020-10-08T15:17:24.444138",
     "exception": false,
     "start_time": "2020-10-08T15:16:56.623510",
     "status": "completed"
    },
    "tags": []
   },
   "outputs": [
    {
     "name": "stdout",
     "output_type": "stream",
     "text": [
      "CPU times: user 26.5 s, sys: 869 ms, total: 27.4 s\n",
      "Wall time: 27.8 s\n"
     ]
    }
   ],
   "source": [
    "%%time\n",
    "imgzip = zipfile.ZipFile('../input/avito-demand-prediction/train_jpg.zip')\n",
    "inflist = imgzip.infolist()"
   ]
  },
  {
   "cell_type": "code",
   "execution_count": 11,
   "metadata": {
    "execution": {
     "iopub.execute_input": "2020-10-08T15:17:24.528994Z",
     "iopub.status.busy": "2020-10-08T15:17:24.527979Z",
     "iopub.status.idle": "2020-10-08T15:17:24.813106Z",
     "shell.execute_reply": "2020-10-08T15:17:24.813708Z"
    },
    "papermill": {
     "duration": 0.332204,
     "end_time": "2020-10-08T15:17:24.813862",
     "exception": false,
     "start_time": "2020-10-08T15:17:24.481658",
     "status": "completed"
    },
    "tags": []
   },
   "outputs": [
    {
     "name": "stdout",
     "output_type": "stream",
     "text": [
      "(244, 244, 3)\n"
     ]
    },
    {
     "data": {
      "text/plain": [
       "<matplotlib.image.AxesImage at 0x7f0d53de7410>"
      ]
     },
     "execution_count": 11,
     "metadata": {},
     "output_type": "execute_result"
    },
    {
     "data": {
      "image/png": "[encoded data removed]",
      "text/plain": [
       "<Figure size 432x288 with 1 Axes>"
      ]
     },
     "metadata": {
      "needs_background": "light"
     },
     "output_type": "display_data"
    }
   ],
   "source": [
    "IMG_SIZE = 244\n",
    "\n",
    "def im_from_zip(template, imgzip, name):\n",
    "    f = template.format(name)\n",
    "    #print(f)\n",
    "    ifile = imgzip.open(f)\n",
    "    #img = Image.open(ifile)\n",
    "    img = np.asarray(Image.open(ifile))\n",
    "    #img = cv2.imread(ifile)\n",
    "    #img = image.load_img(ifile, target_size=(224, 224))\n",
    "    img = cv2.resize(img, (IMG_SIZE, IMG_SIZE))\n",
    "    #print(img)\n",
    "    #plt.imshow(img)\n",
    "    #plt.show()\n",
    "    return img\n",
    "\n",
    "\n",
    "template = 'data/competition_files/train_jpg/{}.jpg'\n",
    "name = data.image[99]\n",
    "im1 = im_from_zip(template, imgzip, name)\n",
    "print(im1.shape)\n",
    "plt.imshow(im1)\n"
   ]
  },
  {
   "cell_type": "code",
   "execution_count": 12,
   "metadata": {
    "execution": {
     "iopub.execute_input": "2020-10-08T15:17:24.899723Z",
     "iopub.status.busy": "2020-10-08T15:17:24.898964Z",
     "iopub.status.idle": "2020-10-08T15:17:24.902543Z",
     "shell.execute_reply": "2020-10-08T15:17:24.902030Z"
    },
    "papermill": {
     "duration": 0.049619,
     "end_time": "2020-10-08T15:17:24.902680",
     "exception": false,
     "start_time": "2020-10-08T15:17:24.853061",
     "status": "completed"
    },
    "tags": []
   },
   "outputs": [],
   "source": [
    "def train_generator(batchsize = 1, rows = 10, scale=10):\n",
    "    while True:\n",
    "        ch = pd.read_csv('../input/avito-demand-prediction/train.csv', usecols=['price','image', 'category_name'], chunksize=rows * batchsize)\n",
    "        for chunk in ch:\n",
    "            try:\n",
    "                X_train = chunk[chunk['category_name']=='Товары для детей и игрушки'].image #[::scale]\n",
    "                y_raw = chunk[chunk['category_name']=='Товары для детей и игрушки'].price.astype(int) #[::scale]\n",
    "                #X_train = np.reshape(X_train, (batchsize,int(rows/scale),1))\n",
    "                #y_raw = np.reshape(y_raw, (batchsize,int(rows/scale),1))\n",
    "            \n",
    "                template = 'data/competition_files/train_jpg/{}.jpg'\n",
    "            \n",
    "                image_list = []\n",
    "            \n",
    "                for name in chunk.image:\n",
    "                    image_list.append(im_from_zip(template, imgzip, name))\n",
    "\n",
    "                yield np.array(image_list).reshape(-1, IMG_SIZE, IMG_SIZE, 3), y_raw.to_numpy()\n",
    "            except:\n",
    "                pass"
   ]
  },
  {
   "cell_type": "code",
   "execution_count": 13,
   "metadata": {
    "execution": {
     "iopub.execute_input": "2020-10-08T15:17:24.982397Z",
     "iopub.status.busy": "2020-10-08T15:17:24.981551Z",
     "iopub.status.idle": "2020-10-08T15:17:24.988769Z",
     "shell.execute_reply": "2020-10-08T15:17:24.989378Z"
    },
    "papermill": {
     "duration": 0.049122,
     "end_time": "2020-10-08T15:17:24.989508",
     "exception": false,
     "start_time": "2020-10-08T15:17:24.940386",
     "status": "completed"
    },
    "tags": []
   },
   "outputs": [
    {
     "data": {
      "text/plain": [
       "array([ 500.,  800., 1000., 1500., 4000.,  400.,  300., 2000., 1200.,\n",
       "        100.,  350.,  600.,  900., 2500.,  700., 3500., 5000., 3000.,\n",
       "        200.,  250., 1800., 1300.,  150.,  450.])"
      ]
     },
     "execution_count": 13,
     "metadata": {},
     "output_type": "execute_result"
    }
   ],
   "source": [
    "data.price.unique()"
   ]
  },
  {
   "cell_type": "code",
   "execution_count": 14,
   "metadata": {
    "execution": {
     "iopub.execute_input": "2020-10-08T15:17:25.078112Z",
     "iopub.status.busy": "2020-10-08T15:17:25.077176Z",
     "iopub.status.idle": "2020-10-08T15:17:25.083910Z",
     "shell.execute_reply": "2020-10-08T15:17:25.084610Z"
    },
    "papermill": {
     "duration": 0.056464,
     "end_time": "2020-10-08T15:17:25.084792",
     "exception": false,
     "start_time": "2020-10-08T15:17:25.028328",
     "status": "completed"
    },
    "tags": []
   },
   "outputs": [
    {
     "data": {
      "text/plain": [
       "(225207, 4)"
      ]
     },
     "execution_count": 14,
     "metadata": {},
     "output_type": "execute_result"
    }
   ],
   "source": [
    "data.shape"
   ]
  },
  {
   "cell_type": "code",
   "execution_count": 15,
   "metadata": {
    "execution": {
     "iopub.execute_input": "2020-10-08T15:17:25.194827Z",
     "iopub.status.busy": "2020-10-08T15:17:25.193566Z",
     "iopub.status.idle": "2020-10-08T15:17:25.197354Z",
     "shell.execute_reply": "2020-10-08T15:17:25.196561Z"
    },
    "papermill": {
     "duration": 0.056276,
     "end_time": "2020-10-08T15:17:25.197492",
     "exception": false,
     "start_time": "2020-10-08T15:17:25.141216",
     "status": "completed"
    },
    "tags": []
   },
   "outputs": [],
   "source": [
    "NCLASS = (data.price.unique().shape[0])"
   ]
  },
  {
   "cell_type": "code",
   "execution_count": 16,
   "metadata": {
    "execution": {
     "iopub.execute_input": "2020-10-08T15:17:25.277253Z",
     "iopub.status.busy": "2020-10-08T15:17:25.276504Z",
     "iopub.status.idle": "2020-10-08T15:17:25.829932Z",
     "shell.execute_reply": "2020-10-08T15:17:25.828993Z"
    },
    "papermill": {
     "duration": 0.594718,
     "end_time": "2020-10-08T15:17:25.830049",
     "exception": false,
     "start_time": "2020-10-08T15:17:25.235331",
     "status": "completed"
    },
    "tags": []
   },
   "outputs": [],
   "source": [
    "from sklearn.preprocessing import OneHotEncoder\n",
    "OH = OneHotEncoder()"
   ]
  },
  {
   "cell_type": "code",
   "execution_count": 17,
   "metadata": {
    "execution": {
     "iopub.execute_input": "2020-10-08T15:17:25.911306Z",
     "iopub.status.busy": "2020-10-08T15:17:25.910271Z",
     "iopub.status.idle": "2020-10-08T15:17:25.925944Z",
     "shell.execute_reply": "2020-10-08T15:17:25.926532Z"
    },
    "papermill": {
     "duration": 0.058359,
     "end_time": "2020-10-08T15:17:25.926696",
     "exception": false,
     "start_time": "2020-10-08T15:17:25.868337",
     "status": "completed"
    },
    "tags": []
   },
   "outputs": [
    {
     "name": "stdout",
     "output_type": "stream",
     "text": [
      "CPU times: user 5.62 ms, sys: 97 µs, total: 5.72 ms\n",
      "Wall time: 6.52 ms\n"
     ]
    },
    {
     "data": {
      "text/plain": [
       "OneHotEncoder()"
      ]
     },
     "execution_count": 17,
     "metadata": {},
     "output_type": "execute_result"
    }
   ],
   "source": [
    "%%time\n",
    "OH.fit(data.price.values.reshape(-1,1))"
   ]
  },
  {
   "cell_type": "code",
   "execution_count": 18,
   "metadata": {
    "execution": {
     "iopub.execute_input": "2020-10-08T15:17:26.008072Z",
     "iopub.status.busy": "2020-10-08T15:17:26.007259Z",
     "iopub.status.idle": "2020-10-08T15:17:26.068020Z",
     "shell.execute_reply": "2020-10-08T15:17:26.067474Z"
    },
    "papermill": {
     "duration": 0.103265,
     "end_time": "2020-10-08T15:17:26.068132",
     "exception": false,
     "start_time": "2020-10-08T15:17:25.964867",
     "status": "completed"
    },
    "tags": []
   },
   "outputs": [],
   "source": [
    "y_train = OH.transform(data.price.values.reshape(-1,1)).toarray()"
   ]
  },
  {
   "cell_type": "code",
   "execution_count": 19,
   "metadata": {
    "execution": {
     "iopub.execute_input": "2020-10-08T15:17:26.155122Z",
     "iopub.status.busy": "2020-10-08T15:17:26.154336Z",
     "iopub.status.idle": "2020-10-08T15:17:26.157225Z",
     "shell.execute_reply": "2020-10-08T15:17:26.157713Z"
    },
    "papermill": {
     "duration": 0.048995,
     "end_time": "2020-10-08T15:17:26.157828",
     "exception": false,
     "start_time": "2020-10-08T15:17:26.108833",
     "status": "completed"
    },
    "tags": []
   },
   "outputs": [
    {
     "data": {
      "text/plain": [
       "array([[0., 0., 0., 0., 0., 0., 0., 0., 1., 0., 0., 0., 0., 0., 0., 0.,\n",
       "        0., 0., 0., 0., 0., 0., 0., 0.]])"
      ]
     },
     "execution_count": 19,
     "metadata": {},
     "output_type": "execute_result"
    }
   ],
   "source": [
    "y_train[1].reshape(-1,24)"
   ]
  },
  {
   "cell_type": "code",
   "execution_count": 20,
   "metadata": {
    "execution": {
     "iopub.execute_input": "2020-10-08T15:17:26.241422Z",
     "iopub.status.busy": "2020-10-08T15:17:26.240704Z",
     "iopub.status.idle": "2020-10-08T15:17:26.244571Z",
     "shell.execute_reply": "2020-10-08T15:17:26.244032Z"
    },
    "papermill": {
     "duration": 0.047172,
     "end_time": "2020-10-08T15:17:26.244700",
     "exception": false,
     "start_time": "2020-10-08T15:17:26.197528",
     "status": "completed"
    },
    "tags": []
   },
   "outputs": [
    {
     "data": {
      "text/plain": [
       "(225207, 24)"
      ]
     },
     "execution_count": 20,
     "metadata": {},
     "output_type": "execute_result"
    }
   ],
   "source": [
    "y_train.shape"
   ]
  },
  {
   "cell_type": "code",
   "execution_count": 21,
   "metadata": {
    "execution": {
     "iopub.execute_input": "2020-10-08T15:17:26.328199Z",
     "iopub.status.busy": "2020-10-08T15:17:26.327398Z",
     "iopub.status.idle": "2020-10-08T15:17:26.331346Z",
     "shell.execute_reply": "2020-10-08T15:17:26.330729Z"
    },
    "papermill": {
     "duration": 0.047358,
     "end_time": "2020-10-08T15:17:26.331436",
     "exception": false,
     "start_time": "2020-10-08T15:17:26.284078",
     "status": "completed"
    },
    "tags": []
   },
   "outputs": [
    {
     "data": {
      "text/plain": [
       "221360"
      ]
     },
     "execution_count": 21,
     "metadata": {},
     "output_type": "execute_result"
    }
   ],
   "source": [
    "import random\n",
    "random.seed(0) \n",
    "random.choice(data.index)\n",
    "#random.sample(data.index,data.index.shape[0])"
   ]
  },
  {
   "cell_type": "code",
   "execution_count": 22,
   "metadata": {
    "execution": {
     "iopub.execute_input": "2020-10-08T15:17:26.421483Z",
     "iopub.status.busy": "2020-10-08T15:17:26.420548Z",
     "iopub.status.idle": "2020-10-08T15:17:26.422895Z",
     "shell.execute_reply": "2020-10-08T15:17:26.423430Z"
    },
    "papermill": {
     "duration": 0.05174,
     "end_time": "2020-10-08T15:17:26.423540",
     "exception": false,
     "start_time": "2020-10-08T15:17:26.371800",
     "status": "completed"
    },
    "tags": []
   },
   "outputs": [],
   "source": [
    "def train_generator(batchsize = 1, rows = 10, scale=10):\n",
    "    while True:\n",
    "                i = random.choice(data.index)\n",
    "        #for i in data.index:\n",
    "            #try:\n",
    "                y_raw = [data.loc[i,'price']]\n",
    "                template = 'data/competition_files/train_jpg/{}.jpg'\n",
    "                image_list = []\n",
    "                image_list.append(im_from_zip(template, imgzip, data.loc[i, 'image']))\n",
    "                yield np.array(image_list).reshape(-1, IMG_SIZE, IMG_SIZE, 3), y_train[i].reshape(-1,24)\n",
    "            #except:\n",
    "            #    pass"
   ]
  },
  {
   "cell_type": "code",
   "execution_count": null,
   "metadata": {
    "papermill": {
     "duration": 0.04033,
     "end_time": "2020-10-08T15:17:26.504258",
     "exception": false,
     "start_time": "2020-10-08T15:17:26.463928",
     "status": "completed"
    },
    "tags": []
   },
   "outputs": [],
   "source": []
  },
  {
   "cell_type": "code",
   "execution_count": 23,
   "metadata": {
    "execution": {
     "iopub.execute_input": "2020-10-08T15:17:26.591693Z",
     "iopub.status.busy": "2020-10-08T15:17:26.590848Z",
     "iopub.status.idle": "2020-10-08T15:17:26.593999Z",
     "shell.execute_reply": "2020-10-08T15:17:26.593438Z"
    },
    "papermill": {
     "duration": 0.048471,
     "end_time": "2020-10-08T15:17:26.594104",
     "exception": false,
     "start_time": "2020-10-08T15:17:26.545633",
     "status": "completed"
    },
    "tags": []
   },
   "outputs": [],
   "source": [
    "#def resize(x_test):\n",
    "#    x_test_244 = np.zeros((x_test.shape[0],244,244,x_test.shape[3]))\n",
    "#    for i in range(x_test.shape[0]):\n",
    "#        x_test_244[i] = cv2.resize(x_test[i], (IMG_SIZE, IMG_SIZE))\n",
    "#    return x_test_244\n",
    "\n",
    "#def chan3 (x_test):\n",
    "#    inp_shape = (x_test.shape[0],x_test.shape[1],x_test.shape[2],3)\n",
    "#    x_test_new = np.zeros(inp_shape)\n",
    "#    x_test_new[:,:,:,0] = x_test\n",
    "#    x_test_new[:,:,:,1] = x_test\n",
    "#    x_test_new[:,:,:,2] = x_test\n",
    "#    return resize(x_test_new)"
   ]
  },
  {
   "cell_type": "code",
   "execution_count": 24,
   "metadata": {
    "execution": {
     "iopub.execute_input": "2020-10-08T15:17:26.678957Z",
     "iopub.status.busy": "2020-10-08T15:17:26.678123Z",
     "iopub.status.idle": "2020-10-08T15:17:26.681252Z",
     "shell.execute_reply": "2020-10-08T15:17:26.680730Z"
    },
    "papermill": {
     "duration": 0.046582,
     "end_time": "2020-10-08T15:17:26.681353",
     "exception": false,
     "start_time": "2020-10-08T15:17:26.634771",
     "status": "completed"
    },
    "tags": []
   },
   "outputs": [],
   "source": [
    "import numpy as np\n",
    "from tensorflow import keras\n",
    "from tensorflow.keras import layers\n"
   ]
  },
  {
   "cell_type": "code",
   "execution_count": 25,
   "metadata": {
    "execution": {
     "iopub.execute_input": "2020-10-08T15:17:26.769421Z",
     "iopub.status.busy": "2020-10-08T15:17:26.768534Z",
     "iopub.status.idle": "2020-10-08T15:17:26.771675Z",
     "shell.execute_reply": "2020-10-08T15:17:26.771141Z"
    },
    "papermill": {
     "duration": 0.049221,
     "end_time": "2020-10-08T15:17:26.771775",
     "exception": false,
     "start_time": "2020-10-08T15:17:26.722554",
     "status": "completed"
    },
    "tags": []
   },
   "outputs": [],
   "source": [
    "#num_classes = 10\n",
    "input_shape = (244, 244, 3)\n",
    "n_train = 1000\n",
    "n_test = 100"
   ]
  },
  {
   "cell_type": "code",
   "execution_count": 26,
   "metadata": {
    "execution": {
     "iopub.execute_input": "2020-10-08T15:17:26.865074Z",
     "iopub.status.busy": "2020-10-08T15:17:26.864348Z",
     "iopub.status.idle": "2020-10-08T15:17:36.114630Z",
     "shell.execute_reply": "2020-10-08T15:17:36.113945Z"
    },
    "papermill": {
     "duration": 9.300882,
     "end_time": "2020-10-08T15:17:36.114758",
     "exception": false,
     "start_time": "2020-10-08T15:17:26.813876",
     "status": "completed"
    },
    "tags": []
   },
   "outputs": [
    {
     "name": "stdout",
     "output_type": "stream",
     "text": [
      "Model: \"sequential\"\n",
      "_________________________________________________________________\n",
      "Layer (type)                 Output Shape              Param #   \n",
      "=================================================================\n",
      "efficientnetb4 (Functional)  (None, 24)                17716855  \n",
      "=================================================================\n",
      "Total params: 17,716,855\n",
      "Trainable params: 17,591,648\n",
      "Non-trainable params: 125,207\n",
      "_________________________________________________________________\n"
     ]
    }
   ],
   "source": [
    "model = keras.Sequential(\n",
    "    [\n",
    "        #keras.Input(shape=input_shape),\n",
    "        #keras.applications.MobileNetV2(\n",
    "        #input_shape=input_shape,\n",
    "        #alpha=1.0,\n",
    "        #include_top=False,\n",
    "        #weights=\"imagenet\",\n",
    "        #weights=None,\n",
    "        #input_tensor=None,\n",
    "        #pooling=None,\n",
    "        #classes=NCLASS,\n",
    "        #classifier_activation=\"softmax\",\n",
    "        #**kwargs\n",
    "        #),\n",
    "        \n",
    "        keras.applications.EfficientNetB4(\n",
    "        include_top=True,\n",
    "        weights=None,\n",
    "        #input_tensor=None,\n",
    "        input_shape=input_shape,\n",
    "        pooling=None,\n",
    "        classes=NCLASS,\n",
    "        classifier_activation=\"softmax\",\n",
    "        #**kwargs\n",
    "        )\n",
    "        \n",
    "        #layers.Conv2D(32, kernel_size=(2, 2), activation=\"relu\"),\n",
    "        #layers.MaxPooling2D(pool_size=(2, 2)),\n",
    "        #layers.Conv2D(64, kernel_size=(2, 2), activation=\"relu\"),\n",
    "        #layers.MaxPooling2D(pool_size=(2, 2)),\n",
    "        \n",
    "        #layers.Flatten(),\n",
    "        #layers.Dense(100, activation=\"relu\"),\n",
    "        #layers.Dropout(0.2),\n",
    "        #layers.Dense(NCLASS, activation=\"linear\"),\n",
    "    ]\n",
    ")\n",
    "\n",
    "model.summary()"
   ]
  },
  {
   "cell_type": "code",
   "execution_count": 27,
   "metadata": {
    "execution": {
     "iopub.execute_input": "2020-10-08T15:17:36.206003Z",
     "iopub.status.busy": "2020-10-08T15:17:36.203988Z",
     "iopub.status.idle": "2020-10-08T15:17:36.206694Z",
     "shell.execute_reply": "2020-10-08T15:17:36.207189Z"
    },
    "papermill": {
     "duration": 0.049863,
     "end_time": "2020-10-08T15:17:36.207323",
     "exception": false,
     "start_time": "2020-10-08T15:17:36.157460",
     "status": "completed"
    },
    "tags": []
   },
   "outputs": [],
   "source": [
    "gen = train_generator()"
   ]
  },
  {
   "cell_type": "code",
   "execution_count": 28,
   "metadata": {
    "execution": {
     "iopub.execute_input": "2020-10-08T15:17:36.296196Z",
     "iopub.status.busy": "2020-10-08T15:17:36.295550Z",
     "iopub.status.idle": "2020-10-08T15:17:36.316750Z",
     "shell.execute_reply": "2020-10-08T15:17:36.317264Z"
    },
    "papermill": {
     "duration": 0.067782,
     "end_time": "2020-10-08T15:17:36.317390",
     "exception": false,
     "start_time": "2020-10-08T15:17:36.249608",
     "status": "completed"
    },
    "tags": []
   },
   "outputs": [
    {
     "name": "stdout",
     "output_type": "stream",
     "text": [
      "(1, 244, 244, 3)\n",
      "(1, 24)\n"
     ]
    }
   ],
   "source": [
    "X, y = next(gen)\n",
    "print(X.shape)\n",
    "print(y.shape)"
   ]
  },
  {
   "cell_type": "code",
   "execution_count": 29,
   "metadata": {
    "execution": {
     "iopub.execute_input": "2020-10-08T15:17:36.426805Z",
     "iopub.status.busy": "2020-10-08T15:17:36.411063Z",
     "iopub.status.idle": "2020-10-08T15:17:36.436750Z",
     "shell.execute_reply": "2020-10-08T15:17:36.437349Z"
    },
    "papermill": {
     "duration": 0.078166,
     "end_time": "2020-10-08T15:17:36.437470",
     "exception": false,
     "start_time": "2020-10-08T15:17:36.359304",
     "status": "completed"
    },
    "tags": []
   },
   "outputs": [],
   "source": [
    "batch_size = 10\n",
    "epochs = 1\n",
    "\n",
    "model.compile(loss=\"categorical_crossentropy\", optimizer=\"adam\", metrics=[\"accuracy\"])\n",
    "#model.compile(loss=\"mae\", optimizer=\"adam\", metrics=[\"accuracy\"])\n",
    "\n",
    "#model.fit(x_train, y_train, batch_size=batch_size, epochs=epochs, validation_split=0.1)\n",
    "#model.fit(x_train, y_train, batch_size=batch_size, epochs=epochs)"
   ]
  },
  {
   "cell_type": "code",
   "execution_count": 30,
   "metadata": {
    "execution": {
     "iopub.execute_input": "2020-10-08T15:17:36.526789Z",
     "iopub.status.busy": "2020-10-08T15:17:36.526138Z",
     "iopub.status.idle": "2020-10-08T15:17:36.530122Z",
     "shell.execute_reply": "2020-10-08T15:17:36.529639Z"
    },
    "papermill": {
     "duration": 0.050561,
     "end_time": "2020-10-08T15:17:36.530237",
     "exception": false,
     "start_time": "2020-10-08T15:17:36.479676",
     "status": "completed"
    },
    "tags": []
   },
   "outputs": [],
   "source": [
    "#score = model.evaluate(x_test, y_test, verbose=0)\n",
    "#print(\"Test loss:\", score[0])\n",
    "#print(\"Test accuracy:\", score[1])"
   ]
  },
  {
   "cell_type": "code",
   "execution_count": 31,
   "metadata": {
    "execution": {
     "iopub.execute_input": "2020-10-08T15:17:36.622135Z",
     "iopub.status.busy": "2020-10-08T15:17:36.621467Z",
     "iopub.status.idle": "2020-10-08T15:17:36.625438Z",
     "shell.execute_reply": "2020-10-08T15:17:36.625961Z"
    },
    "papermill": {
     "duration": 0.053123,
     "end_time": "2020-10-08T15:17:36.626097",
     "exception": false,
     "start_time": "2020-10-08T15:17:36.572974",
     "status": "completed"
    },
    "tags": []
   },
   "outputs": [],
   "source": [
    "#epoch = 100\n",
    "#steps = round(data.shape[0]/epoch)\n",
    "epoch = 30\n",
    "steps = 800"
   ]
  },
  {
   "cell_type": "code",
   "execution_count": 32,
   "metadata": {
    "execution": {
     "iopub.execute_input": "2020-10-08T15:17:36.721014Z",
     "iopub.status.busy": "2020-10-08T15:17:36.720327Z",
     "iopub.status.idle": "2020-10-08T15:52:47.190682Z",
     "shell.execute_reply": "2020-10-08T15:52:47.188460Z"
    },
    "papermill": {
     "duration": 2110.521881,
     "end_time": "2020-10-08T15:52:47.191630",
     "exception": false,
     "start_time": "2020-10-08T15:17:36.669749",
     "status": "completed"
    },
    "tags": []
   },
   "outputs": [
    {
     "name": "stdout",
     "output_type": "stream",
     "text": [
      "Epoch 1/30\n",
      "800/800 [==============================] - 67s 84ms/step - loss: 3.3046 - accuracy: 0.1125\n",
      "Epoch 2/30\n",
      "800/800 [==============================] - 68s 84ms/step - loss: 3.0278 - accuracy: 0.1225\n",
      "Epoch 3/30\n",
      "800/800 [==============================] - 68s 85ms/step - loss: 3.0896 - accuracy: 0.0975\n",
      "Epoch 4/30\n",
      "800/800 [==============================] - 67s 84ms/step - loss: 3.0111 - accuracy: 0.1250\n",
      "Epoch 5/30\n",
      "800/800 [==============================] - 68s 85ms/step - loss: 3.0717 - accuracy: 0.1275\n",
      "Epoch 6/30\n",
      "800/800 [==============================] - 69s 86ms/step - loss: 2.9976 - accuracy: 0.1300\n",
      "Epoch 7/30\n",
      "800/800 [==============================] - 69s 86ms/step - loss: 2.9949 - accuracy: 0.1225\n",
      "Epoch 8/30\n",
      "800/800 [==============================] - 68s 86ms/step - loss: 2.9814 - accuracy: 0.1500\n",
      "Epoch 9/30\n",
      "800/800 [==============================] - 70s 88ms/step - loss: 2.9615 - accuracy: 0.1350\n",
      "Epoch 10/30\n",
      "800/800 [==============================] - 71s 89ms/step - loss: 2.9403 - accuracy: 0.1450\n",
      "Epoch 11/30\n",
      "800/800 [==============================] - 70s 87ms/step - loss: 3.0058 - accuracy: 0.1200\n",
      "Epoch 12/30\n",
      "800/800 [==============================] - 70s 87ms/step - loss: 2.9123 - accuracy: 0.1600\n",
      "Epoch 13/30\n",
      "800/800 [==============================] - 69s 87ms/step - loss: 2.8936 - accuracy: 0.1450\n",
      "Epoch 14/30\n",
      "800/800 [==============================] - 70s 88ms/step - loss: 2.9636 - accuracy: 0.1425\n",
      "Epoch 15/30\n",
      "800/800 [==============================] - 71s 89ms/step - loss: 2.9919 - accuracy: 0.1262\n",
      "Epoch 16/30\n",
      "800/800 [==============================] - 71s 88ms/step - loss: 2.9573 - accuracy: 0.1450\n",
      "Epoch 17/30\n",
      "800/800 [==============================] - 67s 84ms/step - loss: 2.8759 - accuracy: 0.1650\n",
      "Epoch 18/30\n",
      "800/800 [==============================] - 69s 86ms/step - loss: 2.9506 - accuracy: 0.1663\n",
      "Epoch 19/30\n",
      "800/800 [==============================] - 69s 86ms/step - loss: 2.9706 - accuracy: 0.1350\n",
      "Epoch 20/30\n",
      "800/800 [==============================] - 70s 87ms/step - loss: 2.9578 - accuracy: 0.1213\n",
      "Epoch 21/30\n",
      "800/800 [==============================] - 69s 87ms/step - loss: 2.9040 - accuracy: 0.1213\n",
      "Epoch 22/30\n",
      "800/800 [==============================] - 71s 88ms/step - loss: 2.9759 - accuracy: 0.1450\n",
      "Epoch 23/30\n",
      "800/800 [==============================] - 70s 87ms/step - loss: 2.9911 - accuracy: 0.1262\n",
      "Epoch 24/30\n",
      "800/800 [==============================] - 70s 87ms/step - loss: 2.9908 - accuracy: 0.1250\n",
      "Epoch 25/30\n",
      "800/800 [==============================] - 71s 88ms/step - loss: 2.9310 - accuracy: 0.1562\n",
      "Epoch 26/30\n",
      "800/800 [==============================] - 70s 88ms/step - loss: 2.9752 - accuracy: 0.1525\n",
      "Epoch 27/30\n",
      "800/800 [==============================] - 71s 88ms/step - loss: 2.9401 - accuracy: 0.1562\n",
      "Epoch 28/30\n",
      "800/800 [==============================] - 71s 89ms/step - loss: 2.9055 - accuracy: 0.1700\n",
      "Epoch 29/30\n",
      "800/800 [==============================] - 70s 88ms/step - loss: 2.9442 - accuracy: 0.1500\n",
      "Epoch 30/30\n",
      "800/800 [==============================] - 71s 88ms/step - loss: 2.9653 - accuracy: 0.1388\n"
     ]
    }
   ],
   "source": [
    "history = model.fit_generator(generator=gen,\n",
    "                    epochs=epoch,\n",
    "                    steps_per_epoch=steps)"
   ]
  },
  {
   "cell_type": "code",
   "execution_count": 33,
   "metadata": {
    "execution": {
     "iopub.execute_input": "2020-10-08T15:53:03.853730Z",
     "iopub.status.busy": "2020-10-08T15:53:03.848502Z",
     "iopub.status.idle": "2020-10-08T15:54:24.663319Z",
     "shell.execute_reply": "2020-10-08T15:54:24.659608Z"
    },
    "papermill": {
     "duration": 89.032286,
     "end_time": "2020-10-08T15:54:24.663459",
     "exception": false,
     "start_time": "2020-10-08T15:52:55.631173",
     "status": "completed"
    },
    "tags": []
   },
   "outputs": [],
   "source": [
    "model.save('mobilenet')"
   ]
  },
  {
   "cell_type": "code",
   "execution_count": 34,
   "metadata": {
    "execution": {
     "iopub.execute_input": "2020-10-08T15:54:41.708684Z",
     "iopub.status.busy": "2020-10-08T15:54:41.708055Z",
     "iopub.status.idle": "2020-10-08T15:54:41.930403Z",
     "shell.execute_reply": "2020-10-08T15:54:41.929338Z"
    },
    "papermill": {
     "duration": 8.91656,
     "end_time": "2020-10-08T15:54:41.930537",
     "exception": false,
     "start_time": "2020-10-08T15:54:33.013977",
     "status": "completed"
    },
    "tags": []
   },
   "outputs": [
    {
     "data": {
      "text/plain": [
       "[<matplotlib.lines.Line2D at 0x7f0879eea190>]"
      ]
     },
     "execution_count": 34,
     "metadata": {},
     "output_type": "execute_result"
    },
    {
     "data": {
      "image/png": "[encoded data removed]",
      "text/plain": [
       "<Figure size 432x288 with 1 Axes>"
      ]
     },
     "metadata": {
      "needs_background": "light"
     },
     "output_type": "display_data"
    }
   ],
   "source": [
    "plt.plot(history.history['loss'])"
   ]
  },
  {
   "cell_type": "code",
   "execution_count": 35,
   "metadata": {
    "execution": {
     "iopub.execute_input": "2020-10-08T15:54:58.815070Z",
     "iopub.status.busy": "2020-10-08T15:54:58.813777Z",
     "iopub.status.idle": "2020-10-08T15:54:58.956705Z",
     "shell.execute_reply": "2020-10-08T15:54:58.956194Z"
    },
    "papermill": {
     "duration": 8.625281,
     "end_time": "2020-10-08T15:54:58.956824",
     "exception": false,
     "start_time": "2020-10-08T15:54:50.331543",
     "status": "completed"
    },
    "tags": []
   },
   "outputs": [
    {
     "data": {
      "text/plain": [
       "[<matplotlib.lines.Line2D at 0x7f0879ff2d90>]"
      ]
     },
     "execution_count": 35,
     "metadata": {},
     "output_type": "execute_result"
    },
    {
     "data": {
      "image/png": "[encoded data removed]",
      "text/plain": [
       "<Figure size 432x288 with 1 Axes>"
      ]
     },
     "metadata": {
      "needs_background": "light"
     },
     "output_type": "display_data"
    }
   ],
   "source": [
    "plt.plot(history.history['accuracy'])"
   ]
  },
  {
   "cell_type": "code",
   "execution_count": 36,
   "metadata": {
    "execution": {
     "iopub.execute_input": "2020-10-08T15:55:16.106599Z",
     "iopub.status.busy": "2020-10-08T15:55:16.105809Z",
     "iopub.status.idle": "2020-10-08T15:55:39.440970Z",
     "shell.execute_reply": "2020-10-08T15:55:39.442118Z"
    },
    "papermill": {
     "duration": 32.015538,
     "end_time": "2020-10-08T15:55:39.442323",
     "exception": false,
     "start_time": "2020-10-08T15:55:07.426785",
     "status": "completed"
    },
    "tags": []
   },
   "outputs": [
    {
     "name": "stdout",
     "output_type": "stream",
     "text": [
      "1000/1000 [==============================] - 19s 19ms/step\n"
     ]
    }
   ],
   "source": [
    "steps = 1000\n",
    "predict = model.predict_generator(gen,\n",
    "                    #epochs=epoch,\n",
    "                    steps, verbose=1)"
   ]
  },
  {
   "cell_type": "code",
   "execution_count": 37,
   "metadata": {
    "execution": {
     "iopub.execute_input": "2020-10-08T15:55:56.756643Z",
     "iopub.status.busy": "2020-10-08T15:55:56.755636Z",
     "iopub.status.idle": "2020-10-08T15:55:56.899844Z",
     "shell.execute_reply": "2020-10-08T15:55:56.900337Z"
    },
    "papermill": {
     "duration": 8.683854,
     "end_time": "2020-10-08T15:55:56.900473",
     "exception": false,
     "start_time": "2020-10-08T15:55:48.216619",
     "status": "completed"
    },
    "tags": []
   },
   "outputs": [
    {
     "data": {
      "text/plain": [
       "(array([ 27.,  20.,  73.,   0.,   0., 361.,   0.,   0.,   0., 519.]),\n",
       " array([ 8. ,  8.9,  9.8, 10.7, 11.6, 12.5, 13.4, 14.3, 15.2, 16.1, 17. ]),\n",
       " <a list of 10 Patch objects>)"
      ]
     },
     "execution_count": 37,
     "metadata": {},
     "output_type": "execute_result"
    },
    {
     "data": {
      "image/png": "[encoded data removed]",
      "text/plain": [
       "<Figure size 432x288 with 1 Axes>"
      ]
     },
     "metadata": {
      "needs_background": "light"
     },
     "output_type": "display_data"
    }
   ],
   "source": [
    "plt.hist(predict.argmax(axis=1))"
   ]
  },
  {
   "cell_type": "code",
   "execution_count": 38,
   "metadata": {
    "execution": {
     "iopub.execute_input": "2020-10-08T15:56:14.501145Z",
     "iopub.status.busy": "2020-10-08T15:56:14.500477Z",
     "iopub.status.idle": "2020-10-08T15:56:33.976256Z",
     "shell.execute_reply": "2020-10-08T15:56:33.976862Z"
    },
    "papermill": {
     "duration": 28.370574,
     "end_time": "2020-10-08T15:56:33.977061",
     "exception": false,
     "start_time": "2020-10-08T15:56:05.606487",
     "status": "completed"
    },
    "tags": []
   },
   "outputs": [
    {
     "name": "stdout",
     "output_type": "stream",
     "text": [
      "1000/1000 [==============================] - 19s 19ms/step\n"
     ]
    }
   ],
   "source": [
    "steps = 1000\n",
    "predict = model.predict_generator(gen,\n",
    "                    #epochs=epoch,\n",
    "                    steps, verbose=1)"
   ]
  },
  {
   "cell_type": "code",
   "execution_count": 39,
   "metadata": {
    "execution": {
     "iopub.execute_input": "2020-10-08T15:56:51.790843Z",
     "iopub.status.busy": "2020-10-08T15:56:51.789521Z",
     "iopub.status.idle": "2020-10-08T15:56:51.938874Z",
     "shell.execute_reply": "2020-10-08T15:56:51.939388Z"
    },
    "papermill": {
     "duration": 9.199962,
     "end_time": "2020-10-08T15:56:51.939536",
     "exception": false,
     "start_time": "2020-10-08T15:56:42.739574",
     "status": "completed"
    },
    "tags": []
   },
   "outputs": [
    {
     "data": {
      "text/plain": [
       "(array([ 40.,  89.,   0., 333.,   0.,   0., 536.,   0.,   1.,   1.]),\n",
       " array([ 8. ,  9.4, 10.8, 12.2, 13.6, 15. , 16.4, 17.8, 19.2, 20.6, 22. ]),\n",
       " <a list of 10 Patch objects>)"
      ]
     },
     "execution_count": 39,
     "metadata": {},
     "output_type": "execute_result"
    },
    {
     "data": {
      "image/png": "[encoded data removed]",
      "text/plain": [
       "<Figure size 432x288 with 1 Axes>"
      ]
     },
     "metadata": {
      "needs_background": "light"
     },
     "output_type": "display_data"
    }
   ],
   "source": [
    "plt.hist(predict.argmax(axis=1))"
   ]
  },
  {
   "cell_type": "code",
   "execution_count": 40,
   "metadata": {
    "execution": {
     "iopub.execute_input": "2020-10-08T15:57:09.288542Z",
     "iopub.status.busy": "2020-10-08T15:57:09.287921Z",
     "iopub.status.idle": "2020-10-08T15:57:32.439562Z",
     "shell.execute_reply": "2020-10-08T15:57:32.438508Z"
    },
    "papermill": {
     "duration": 31.844902,
     "end_time": "2020-10-08T15:57:32.439733",
     "exception": false,
     "start_time": "2020-10-08T15:57:00.594831",
     "status": "completed"
    },
    "tags": []
   },
   "outputs": [],
   "source": [
    "evl = model.evaluate_generator(gen, steps)"
   ]
  },
  {
   "cell_type": "code",
   "execution_count": 41,
   "metadata": {
    "execution": {
     "iopub.execute_input": "2020-10-08T15:57:49.606224Z",
     "iopub.status.busy": "2020-10-08T15:57:49.604387Z",
     "iopub.status.idle": "2020-10-08T15:57:49.611939Z",
     "shell.execute_reply": "2020-10-08T15:57:49.611215Z"
    },
    "papermill": {
     "duration": 8.444929,
     "end_time": "2020-10-08T15:57:49.612087",
     "exception": false,
     "start_time": "2020-10-08T15:57:41.167158",
     "status": "completed"
    },
    "tags": []
   },
   "outputs": [
    {
     "data": {
      "text/plain": [
       "[33.83516311645508, 0.06400000303983688]"
      ]
     },
     "execution_count": 41,
     "metadata": {},
     "output_type": "execute_result"
    }
   ],
   "source": [
    "evl"
   ]
  },
  {
   "cell_type": "code",
   "execution_count": 42,
   "metadata": {
    "execution": {
     "iopub.execute_input": "2020-10-08T15:58:07.155133Z",
     "iopub.status.busy": "2020-10-08T15:58:07.154322Z",
     "iopub.status.idle": "2020-10-08T15:58:07.157599Z",
     "shell.execute_reply": "2020-10-08T15:58:07.157078Z"
    },
    "papermill": {
     "duration": 8.695456,
     "end_time": "2020-10-08T15:58:07.157723",
     "exception": false,
     "start_time": "2020-10-08T15:57:58.462267",
     "status": "completed"
    },
    "tags": []
   },
   "outputs": [],
   "source": [
    "import pickle\n",
    "with open(\"encoder\", \"wb\") as f: \n",
    "    pickle.dump(OH, f)"
   ]
  }
 ],
 "metadata": {
  "kernelspec": {
   "display_name": "Python 3",
   "language": "python",
   "name": "python3"
  },
  "language_info": {
   "codemirror_mode": {
    "name": "ipython",
    "version": 3
   },
   "file_extension": ".py",
   "mimetype": "text/x-python",
   "name": "python",
   "nbconvert_exporter": "python",
   "pygments_lexer": "ipython3",
   "version": "3.7.6"
  },
  "papermill": {
   "duration": 2499.39134,
   "end_time": "2020-10-08T15:58:17.404370",
   "environment_variables": {},
   "exception": null,
   "input_path": "__notebook__.ipynb",
   "output_path": "__notebook__.ipynb",
   "parameters": {},
   "start_time": "2020-10-08T15:16:38.013030",
   "version": "2.1.0"
  }
 },
 "nbformat": 4,
 "nbformat_minor": 4
}
